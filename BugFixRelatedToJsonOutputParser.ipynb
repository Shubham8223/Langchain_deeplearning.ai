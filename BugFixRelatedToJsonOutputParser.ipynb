{
  "nbformat": 4,
  "nbformat_minor": 0,
  "metadata": {
    "colab": {
      "provenance": []
    },
    "kernelspec": {
      "name": "python3",
      "display_name": "Python 3"
    },
    "language_info": {
      "name": "python"
    }
  },
  "cells": [
    {
      "cell_type": "code",
      "execution_count": null,
      "metadata": {
        "id": "twzUr20qYhOG",
        "colab": {
          "base_uri": "https://localhost:8080/"
        },
        "outputId": "3930482e-5d98-46f3-8a05-5076a2f56b86"
      },
      "outputs": [
        {
          "output_type": "stream",
          "name": "stdout",
          "text": [
            "Processing ./langchain\n",
            "  Installing build dependencies ... \u001b[?25l\u001b[?25hdone\n",
            "  \u001b[1;31merror\u001b[0m: \u001b[1msubprocess-exited-with-error\u001b[0m\n",
            "  \n",
            "  \u001b[31m×\u001b[0m \u001b[32mGetting requirements to build wheel\u001b[0m did not run successfully.\n",
            "  \u001b[31m│\u001b[0m exit code: \u001b[1;36m1\u001b[0m\n",
            "  \u001b[31m╰─>\u001b[0m See above for output.\n",
            "  \n",
            "  \u001b[1;35mnote\u001b[0m: This error originates from a subprocess, and is likely not a problem with pip.\n",
            "  Getting requirements to build wheel ... \u001b[?25l\u001b[?25herror\n",
            "\u001b[1;31merror\u001b[0m: \u001b[1msubprocess-exited-with-error\u001b[0m\n",
            "\n",
            "\u001b[31m×\u001b[0m \u001b[32mGetting requirements to build wheel\u001b[0m did not run successfully.\n",
            "\u001b[31m│\u001b[0m exit code: \u001b[1;36m1\u001b[0m\n",
            "\u001b[31m╰─>\u001b[0m See above for output.\n",
            "\n",
            "\u001b[1;35mnote\u001b[0m: This error originates from a subprocess, and is likely not a problem with pip.\n"
          ]
        }
      ],
      "source": [
        "#!apt-get install git\n",
        "#!pip install langchain\n",
        "#!rm -rf langchain\n",
        "#!git clone https://github.com/PavelAgurov/langchain.git\n",
        "#!git clone https://github.com/langchain-ai/langchain.git\n",
        "!pip install ./langchain\n",
        "#!pip install openai\n",
        "#!pip install colab_env"
      ]
    },
    {
      "cell_type": "markdown",
      "source": [
        "SHARED! https://github.com/langchain-ai/langchain/issues/12348"
      ],
      "metadata": {
        "id": "wptp0LsSzDm0"
      }
    },
    {
      "cell_type": "code",
      "source": [
        "import os\n",
        "import colab_env\n",
        "\n",
        "colab_env.envvar_handler.envload()"
      ],
      "metadata": {
        "colab": {
          "base_uri": "https://localhost:8080/"
        },
        "id": "QMAuS8v8Zlxp",
        "outputId": "c5800647-c974-4463-8df2-5e9e9b15f467"
      },
      "execution_count": null,
      "outputs": [
        {
          "output_type": "stream",
          "name": "stdout",
          "text": [
            "Mounted at /content/gdrive\n"
          ]
        },
        {
          "output_type": "execute_result",
          "data": {
            "text/plain": [
              "True"
            ]
          },
          "metadata": {},
          "execution_count": 3
        }
      ]
    },
    {
      "cell_type": "code",
      "source": [
        "OPENAI_API_KEY = os.getenv(\"OPENAI_API_KEY\")"
      ],
      "metadata": {
        "id": "TWGNz7gSZgFk"
      },
      "execution_count": null,
      "outputs": []
    },
    {
      "cell_type": "code",
      "source": [
        "import langchain\n",
        "from langchain.cache import SQLiteCache\n",
        "\n",
        "langchain.llm_cache = SQLiteCache()"
      ],
      "metadata": {
        "id": "jkWzcK-NBP53",
        "colab": {
          "base_uri": "https://localhost:8080/",
          "height": 366
        },
        "outputId": "29ae51e8-0638-4e2a-e8e4-17f34ab736e3"
      },
      "execution_count": null,
      "outputs": [
        {
          "output_type": "error",
          "ename": "ModuleNotFoundError",
          "evalue": "ignored",
          "traceback": [
            "\u001b[0;31m---------------------------------------------------------------------------\u001b[0m",
            "\u001b[0;31mModuleNotFoundError\u001b[0m                       Traceback (most recent call last)",
            "\u001b[0;32m<ipython-input-5-afe639a49ccc>\u001b[0m in \u001b[0;36m<cell line: 1>\u001b[0;34m()\u001b[0m\n\u001b[0;32m----> 1\u001b[0;31m \u001b[0;32mimport\u001b[0m \u001b[0mlangchain\u001b[0m\u001b[0;34m\u001b[0m\u001b[0;34m\u001b[0m\u001b[0m\n\u001b[0m\u001b[1;32m      2\u001b[0m \u001b[0;32mfrom\u001b[0m \u001b[0mlangchain\u001b[0m\u001b[0;34m.\u001b[0m\u001b[0mcache\u001b[0m \u001b[0;32mimport\u001b[0m \u001b[0mSQLiteCache\u001b[0m\u001b[0;34m\u001b[0m\u001b[0;34m\u001b[0m\u001b[0m\n\u001b[1;32m      3\u001b[0m \u001b[0;34m\u001b[0m\u001b[0m\n\u001b[1;32m      4\u001b[0m \u001b[0mlangchain\u001b[0m\u001b[0;34m.\u001b[0m\u001b[0mllm_cache\u001b[0m \u001b[0;34m=\u001b[0m \u001b[0mSQLiteCache\u001b[0m\u001b[0;34m(\u001b[0m\u001b[0;34m)\u001b[0m\u001b[0;34m\u001b[0m\u001b[0;34m\u001b[0m\u001b[0m\n",
            "\u001b[0;31mModuleNotFoundError\u001b[0m: No module named 'langchain'",
            "",
            "\u001b[0;31m---------------------------------------------------------------------------\u001b[0;32m\nNOTE: If your import is failing due to a missing package, you can\nmanually install dependencies using either !pip or !apt.\n\nTo view examples of installing some common dependencies, click the\n\"Open Examples\" button below.\n\u001b[0;31m---------------------------------------------------------------------------\u001b[0m\n"
          ],
          "errorDetails": {
            "actions": [
              {
                "action": "open_url",
                "actionText": "Open Examples",
                "url": "/notebooks/snippets/importing_libraries.ipynb"
              }
            ]
          }
        }
      ]
    },
    {
      "cell_type": "code",
      "source": [
        "from langchain.chat_models import ChatOpenAI\n",
        "\n",
        "llm = ChatOpenAI(\n",
        "        openai_api_key= OPENAI_API_KEY,\n",
        "        model_name  = \"gpt-3.5-turbo\",\n",
        "        temperature = 0,\n",
        "        max_tokens  = 1000\n",
        ")"
      ],
      "metadata": {
        "id": "M3JgEQ4JugSB"
      },
      "execution_count": null,
      "outputs": []
    },
    {
      "cell_type": "code",
      "source": [
        "text4 = \"\"\"\n",
        "Media center All the latest news, announcements, and media resources from Philip Morris International.\n",
        "\n",
        "Media center\n",
        "\n",
        "All the latest news, announcements, and media resources from Philip Morris International.\n",
        "\n",
        "Welcome to the Philip Morris International media center, where you’ll find our latest news, resources, media assets, and contact information for our international press office. The assets on this page are available for public use and can be reproduced verbatim. If you are a journalist and have any questions or special requests, please contact our press office. For all other inquiries—such as questions about our products or general consumer questions— please contact our customer services team.\n",
        "\n",
        "PMI Press Office The PMI Press Office responds exclusively to press inquiries. For any other matter, please use the relevant contact listed under Other queries , just to the right. International press inquiries David Fraser +41 (0)79 843 8603 david.fraser@pmi.com U.S. press inquiries Corey Henry +1 (202) 679 7296 corey.henry@pmi.com\n",
        "\n",
        "PMI Press Office\n",
        "\n",
        "International press inquiries\n",
        "\n",
        "U.S. press inquiries\n",
        "\n",
        "Other queries For questions about our products and services, please contact your nearest PMI office . Alternatively, you can get in touch with us directly. For Job Applications The PMI Media Center does not accept job applications and queries relating to job opportunities at Philip Morris International. Please do not send confidential or other personal information to our Press Office. You may view our job application process and search for available roles that you can apply for on our Careers page .\n",
        "\n",
        "Other queries\n",
        "\n",
        "For Job Applications\n",
        "\n",
        "Latest press releases\n",
        "\n",
        "Press Releases 20 Oct, 2023\n",
        "\n",
        "Press Releases 19 Oct, 2023\n",
        "\n",
        "Press Releases 12 Oct, 2023\n",
        "\n",
        "Press Releases 03 Oct, 2023\n",
        "\n",
        "Resource center\n",
        "\n",
        "Resource center\n",
        "\n",
        "PMI Integrated Report 2022\n",
        "\n",
        "Business Transformation white paper\n",
        "\n",
        "Statement of Purpose\n",
        "\n",
        "More resources\n",
        "\n",
        "Sweden Could Become The First Country To Leave Cigarettes Behind For Good - Factsheet\n",
        "\n",
        "Delivering a Smoke-Free Future - Factsheet\n",
        "\n",
        "The Problem With Burning - Factsheet\n",
        "\n",
        "Nicotine What Is It and Why Is It In Smoke-free Alternatives - Factsheet\n",
        "\n",
        "The Importance of Harm Reduction and Need For Better Alternatives - Factsheet\n",
        "\n",
        "Japan Progress Towards A Smoke-free Future - Factsheet\n",
        "\n",
        "Enable Acesss To Information\n",
        "\n",
        "Good Conversion Practices\n",
        "\n",
        "Our Smoke-Free Products Are For Adult Smokers Who Would Otherwise Continue To Smoke\n",
        "\n",
        "Regulation Should Adapt With, and Foster Innovation\n",
        "\n",
        "Smoke-Free Alternatives Some Facts\n",
        "\n",
        "Smoke-Free Products Deserve Appropriate and Risk-Proportionate Regulation\n",
        "\n",
        "PMI 2021 Sustainability Materiality Report\n",
        "\n",
        "KPMG EU Illicit cigarette consumption report 2021 results\n",
        "\n",
        "PMI ESG KPI Protocol\n",
        "\n",
        "PMI Corporate - Illicit Trade - illicit trade prevention - Factsheets - Jan 2022\n",
        "\n",
        "Carbon Neutrality Declaration\n",
        "\n",
        "ALP Anniversary Report December 2021\n",
        "\n",
        "Letter from PMI’s CFO to International Shareholder Services, Inc. (ISS) dated September 6th, 2021\n",
        "\n",
        "PMI Low-Carbon Transition Plan Executive Summary\n",
        "\n",
        "PMI's Environmental Commitment\n",
        "\n",
        "Who's afraid of a scientist?\n",
        "\n",
        "André Calantzopoulos Boston CEO Club Speech 03.05.2019\n",
        "\n",
        "PMI Supports Objectives of EU SUP Directive\n",
        "\n",
        "Global Goals Yearbook 2019 - PMI\n",
        "\n",
        "PMI Comments on FDA ANPRM - Flavors\n",
        "\n",
        "5\n",
        "\n",
        "180\n",
        "\n",
        "82\n",
        "\n",
        "79,800\n",
        "\n",
        "19.7\n",
        "\n",
        "31.8\n",
        "\n",
        "731.1\n",
        "\n",
        "39\n",
        "\n",
        "Galleries\n",
        "\n",
        "Galleries\n",
        "\n",
        "Videos\n",
        "\n",
        "Videos\n",
        "\n",
        "Video\n",
        "\n",
        "Our R&D facility in Neuchâtel, Switzerland\n",
        "\n",
        "Our scientists\n",
        "\n",
        "Tobacco sheets production line\n",
        "\n",
        "Our production facility in Bologna, Italy\n",
        "\n",
        "Our Operations Center in Lausanne, Switzerland\n",
        "\n",
        "Our message to regulators\n",
        "\n",
        "'We’re going to give people better choices”\n",
        "\n",
        "The difference between tobacco, smoke and nicotine\n",
        "\n",
        "The difference between e-cigarettes and heated tobacco products\n",
        "\n",
        "Our R&D facility in Neuchâtel, Switzerland\n",
        "\n",
        "Our scientists\n",
        "\n",
        "Tobacco sheets production line\n",
        "\n",
        "Our production facility in Bologna, Italy\n",
        "\n",
        "Our Operations Center in Lausanne, Switzerland\n",
        "\n",
        "Our message to regulators\n",
        "\n",
        "'We’re going to give people better choices”\n",
        "\n",
        "The difference between tobacco, smoke and nicotine\n",
        "\n",
        "The difference between e-cigarettes and heated tobacco products\n",
        "\n",
        "Discover who we are Philip Morris International (PMI) is one of the world’s leading international tobacco companies. Headquartered in New York City and listed on the New York Stock Exchange (NYSE: PM), the American company has a workforce of over 69,600. PMI is building its future on replacing cigarettes with smoke-free products that—while not risk-free—are a far better choice than cigarette smoking. Read more\n",
        "\n",
        "Discover who we are\n",
        "\n",
        "Philip Morris International (PMI) is one of the world’s leading international tobacco companies. Headquartered in New York City and listed on the New York Stock Exchange (NYSE: PM), the American company has a workforce of over 69,600. PMI is building its future on replacing cigarettes with smoke-free products that—while not risk-free—are a far better choice than cigarette smoking.\n",
        "\n",
        "Our leadership team Delivering a smoke-free future 2 min read\n",
        "\n",
        "Our leadership team\n",
        "\n",
        "Our leadership team\n",
        "\n",
        "Delivering a smoke-free future 2 min read\n",
        "\n",
        "Delivering a smoke-free future\n",
        "\n",
        "Figure includes Swedish Match and Vectura Fertin Pharma. ** As of September 30, 2023, PMI estimates that approximately 19.7 million adults around the world had already switched to IQOS and stopped smoking. IQOS user metrics reflect PMI estimates, which are based on consumer claims and sample-based statistical assessments with an average margin of error of +/-5% at a 95% Confidence Interval in key volume markets. The accuracy and reliability of IQOS user metrics may vary based on individual market maturity and availability of information.\n",
        "Quick links\n",
        "\n",
        "Other initiatives\n",
        "\n",
        "Legal\n",
        "\n",
        "Follow us on\n",
        "\"\"\""
      ],
      "metadata": {
        "id": "A86o0hX9Qw19"
      },
      "execution_count": null,
      "outputs": []
    },
    {
      "cell_type": "code",
      "source": [
        "from typing import List\n",
        "from pydantic import BaseModel, Field\n",
        "from langchain.utils.openai_functions import convert_pydantic_to_openai_function\n",
        "from typing import Optional\n",
        "\n",
        "class Person(BaseModel):\n",
        "    \"\"\"Information about a person.\"\"\"\n",
        "    name  : str = Field(description=\"person's name\")\n",
        "    title : Optional[str] = Field(description=\"person's title\")\n",
        "    company : Optional[str] = Field(description=\"company name where person is working or worked\")\n",
        "    is_person : bool = Field(description = \"this record is about person\")\n",
        "    counter : int = Field(description = \"how many times name appears in the text\")\n",
        "    explanation : str = Field(description= \"explain why you think that it's person name\")\n",
        "\n",
        "class Information(BaseModel):\n",
        "    \"\"\"Information to extract.\"\"\"\n",
        "    people: List[Person] = Field(description=\"List of info about people\")"
      ],
      "metadata": {
        "id": "ylUBpYorMHyC"
      },
      "execution_count": null,
      "outputs": []
    },
    {
      "cell_type": "code",
      "source": [
        "import re\n",
        "import json\n",
        "from typing import Any, Dict, List, Optional, Type, Union\n",
        "\n",
        "from langchain.schema import (\n",
        "    ChatGeneration,\n",
        "    Generation,\n",
        "    OutputParserException,\n",
        ")\n",
        "from langchain.output_parsers.openai_functions import JsonOutputFunctionsParser\n",
        "\n",
        "class JsonFixOutputFunctionsParser(JsonOutputFunctionsParser):\n",
        "    \"\"\"Parse an output as the Json object.\"\"\"\n",
        "\n",
        "    def get_fixed_json(self, text : str) -> str:\n",
        "        \"\"\"Fix LLM json\"\"\"\n",
        "        text = re.sub(r'\",\\s*}', '\"}', text)\n",
        "        text = re.sub(r\"},\\s*]\", \"}]\", text)\n",
        "        text = re.sub(r\"}\\s*{\", \"},{\", text)\n",
        "\n",
        "        open_bracket = min(text.find('['), text.find('{'))\n",
        "        if open_bracket == -1:\n",
        "            return text\n",
        "\n",
        "        close_bracket = max(text.rfind(']'), text.rfind('}'))\n",
        "        if close_bracket == -1:\n",
        "            return text\n",
        "        return text[open_bracket:close_bracket+1]\n",
        "\n",
        "    def parse_result(self, result: List[Generation], *, partial: bool = False) -> Any:\n",
        "        if len(result) != 1:\n",
        "            raise OutputParserException(\n",
        "                f\"Expected exactly one result, but got {len(result)}\"\n",
        "            )\n",
        "        generation = result[0]\n",
        "        if not isinstance(generation, ChatGeneration):\n",
        "            raise OutputParserException(\n",
        "                \"This output parser can only be used with a chat generation.\"\n",
        "            )\n",
        "        message = generation.message\n",
        "        try:\n",
        "            function_call = message.additional_kwargs[\"function_call\"]\n",
        "        except KeyError as exc:\n",
        "            if partial:\n",
        "                return None\n",
        "            else:\n",
        "                raise OutputParserException(f\"Could not parse function call: {exc}\")\n",
        "        fixed_json = self.get_fixed_json(str(function_call[\"arguments\"]))\n",
        "        return json.loads(fixed_json)"
      ],
      "metadata": {
        "id": "eUBWUyDNTzap"
      },
      "execution_count": null,
      "outputs": []
    },
    {
      "cell_type": "code",
      "source": [
        "from langchain.prompts import ChatPromptTemplate\n",
        "from langchain.chat_models import ChatOpenAI\n",
        "from langchain.output_parsers.openai_functions import JsonKeyOutputFunctionsParser\n",
        "from langchain.output_parsers import OutputFixingParser\n",
        "from langchain.output_parsers.json import SimpleJsonOutputParser\n",
        "\n",
        "extraction_functions = [convert_pydantic_to_openai_function(Information)]\n",
        "extraction_model = llm.bind(functions=extraction_functions, function_call={\"name\": \"Information\"})\n",
        "\n",
        "prompt = ChatPromptTemplate.from_messages([\n",
        "    (\"system\", \"Extract the relevant information, if not explicitly provided do not guess. Extract partial info\"),\n",
        "    (\"human\", \"{input}\")\n",
        "])\n",
        "\n",
        "extraction_chain_fixed = prompt | extraction_model | JsonFixOutputFunctionsParser()\n",
        "extraction_chain       = prompt | extraction_model | JsonKeyOutputFunctionsParser(key_name=\"people\")"
      ],
      "metadata": {
        "id": "YIfUYRh0MVKh"
      },
      "execution_count": null,
      "outputs": []
    },
    {
      "cell_type": "code",
      "source": [
        "extraction_chain.invoke({\"input\": text4})"
      ],
      "metadata": {
        "colab": {
          "base_uri": "https://localhost:8080/",
          "height": 442
        },
        "id": "RLqUdNC9iNGT",
        "outputId": "ab162c71-c6f6-4476-9097-7d57d0fa43a2"
      },
      "execution_count": null,
      "outputs": [
        {
          "output_type": "error",
          "ename": "OutputParserException",
          "evalue": "ignored",
          "traceback": [
            "\u001b[0;31m---------------------------------------------------------------------------\u001b[0m",
            "\u001b[0;31mJSONDecodeError\u001b[0m                           Traceback (most recent call last)",
            "\u001b[0;32m/usr/local/lib/python3.10/dist-packages/langchain/output_parsers/openai_functions.py\u001b[0m in \u001b[0;36mparse_result\u001b[0;34m(self, result, partial)\u001b[0m\n\u001b[1;32m     97\u001b[0m                     \u001b[0;32mtry\u001b[0m\u001b[0;34m:\u001b[0m\u001b[0;34m\u001b[0m\u001b[0;34m\u001b[0m\u001b[0m\n\u001b[0;32m---> 98\u001b[0;31m                         return json.loads(\n\u001b[0m\u001b[1;32m     99\u001b[0m                             \u001b[0mfunction_call\u001b[0m\u001b[0;34m[\u001b[0m\u001b[0;34m\"arguments\"\u001b[0m\u001b[0;34m]\u001b[0m\u001b[0;34m,\u001b[0m \u001b[0mstrict\u001b[0m\u001b[0;34m=\u001b[0m\u001b[0mself\u001b[0m\u001b[0;34m.\u001b[0m\u001b[0mstrict\u001b[0m\u001b[0;34m\u001b[0m\u001b[0;34m\u001b[0m\u001b[0m\n",
            "\u001b[0;32m/usr/lib/python3.10/json/__init__.py\u001b[0m in \u001b[0;36mloads\u001b[0;34m(s, cls, object_hook, parse_float, parse_int, parse_constant, object_pairs_hook, **kw)\u001b[0m\n\u001b[1;32m    358\u001b[0m         \u001b[0mkw\u001b[0m\u001b[0;34m[\u001b[0m\u001b[0;34m'parse_constant'\u001b[0m\u001b[0;34m]\u001b[0m \u001b[0;34m=\u001b[0m \u001b[0mparse_constant\u001b[0m\u001b[0;34m\u001b[0m\u001b[0;34m\u001b[0m\u001b[0m\n\u001b[0;32m--> 359\u001b[0;31m     \u001b[0;32mreturn\u001b[0m \u001b[0mcls\u001b[0m\u001b[0;34m(\u001b[0m\u001b[0;34m**\u001b[0m\u001b[0mkw\u001b[0m\u001b[0;34m)\u001b[0m\u001b[0;34m.\u001b[0m\u001b[0mdecode\u001b[0m\u001b[0;34m(\u001b[0m\u001b[0ms\u001b[0m\u001b[0;34m)\u001b[0m\u001b[0;34m\u001b[0m\u001b[0;34m\u001b[0m\u001b[0m\n\u001b[0m",
            "\u001b[0;32m/usr/lib/python3.10/json/decoder.py\u001b[0m in \u001b[0;36mdecode\u001b[0;34m(self, s, _w)\u001b[0m\n\u001b[1;32m    336\u001b[0m         \"\"\"\n\u001b[0;32m--> 337\u001b[0;31m         \u001b[0mobj\u001b[0m\u001b[0;34m,\u001b[0m \u001b[0mend\u001b[0m \u001b[0;34m=\u001b[0m \u001b[0mself\u001b[0m\u001b[0;34m.\u001b[0m\u001b[0mraw_decode\u001b[0m\u001b[0;34m(\u001b[0m\u001b[0ms\u001b[0m\u001b[0;34m,\u001b[0m \u001b[0midx\u001b[0m\u001b[0;34m=\u001b[0m\u001b[0m_w\u001b[0m\u001b[0;34m(\u001b[0m\u001b[0ms\u001b[0m\u001b[0;34m,\u001b[0m \u001b[0;36m0\u001b[0m\u001b[0;34m)\u001b[0m\u001b[0;34m.\u001b[0m\u001b[0mend\u001b[0m\u001b[0;34m(\u001b[0m\u001b[0;34m)\u001b[0m\u001b[0;34m)\u001b[0m\u001b[0;34m\u001b[0m\u001b[0;34m\u001b[0m\u001b[0m\n\u001b[0m\u001b[1;32m    338\u001b[0m         \u001b[0mend\u001b[0m \u001b[0;34m=\u001b[0m \u001b[0m_w\u001b[0m\u001b[0;34m(\u001b[0m\u001b[0ms\u001b[0m\u001b[0;34m,\u001b[0m \u001b[0mend\u001b[0m\u001b[0;34m)\u001b[0m\u001b[0;34m.\u001b[0m\u001b[0mend\u001b[0m\u001b[0;34m(\u001b[0m\u001b[0;34m)\u001b[0m\u001b[0;34m\u001b[0m\u001b[0;34m\u001b[0m\u001b[0m\n",
            "\u001b[0;32m/usr/lib/python3.10/json/decoder.py\u001b[0m in \u001b[0;36mraw_decode\u001b[0;34m(self, s, idx)\u001b[0m\n\u001b[1;32m    352\u001b[0m         \u001b[0;32mtry\u001b[0m\u001b[0;34m:\u001b[0m\u001b[0;34m\u001b[0m\u001b[0;34m\u001b[0m\u001b[0m\n\u001b[0;32m--> 353\u001b[0;31m             \u001b[0mobj\u001b[0m\u001b[0;34m,\u001b[0m \u001b[0mend\u001b[0m \u001b[0;34m=\u001b[0m \u001b[0mself\u001b[0m\u001b[0;34m.\u001b[0m\u001b[0mscan_once\u001b[0m\u001b[0;34m(\u001b[0m\u001b[0ms\u001b[0m\u001b[0;34m,\u001b[0m \u001b[0midx\u001b[0m\u001b[0;34m)\u001b[0m\u001b[0;34m\u001b[0m\u001b[0;34m\u001b[0m\u001b[0m\n\u001b[0m\u001b[1;32m    354\u001b[0m         \u001b[0;32mexcept\u001b[0m \u001b[0mStopIteration\u001b[0m \u001b[0;32mas\u001b[0m \u001b[0merr\u001b[0m\u001b[0;34m:\u001b[0m\u001b[0;34m\u001b[0m\u001b[0;34m\u001b[0m\u001b[0m\n",
            "\u001b[0;31mJSONDecodeError\u001b[0m: Expecting property name enclosed in double quotes: line 10 column 5 (char 252)",
            "\nDuring handling of the above exception, another exception occurred:\n",
            "\u001b[0;31mOutputParserException\u001b[0m                     Traceback (most recent call last)",
            "\u001b[0;32m<ipython-input-22-6ab677fc5e33>\u001b[0m in \u001b[0;36m<cell line: 1>\u001b[0;34m()\u001b[0m\n\u001b[0;32m----> 1\u001b[0;31m \u001b[0mextraction_chain\u001b[0m\u001b[0;34m.\u001b[0m\u001b[0minvoke\u001b[0m\u001b[0;34m(\u001b[0m\u001b[0;34m{\u001b[0m\u001b[0;34m\"input\"\u001b[0m\u001b[0;34m:\u001b[0m \u001b[0mtext4\u001b[0m\u001b[0;34m}\u001b[0m\u001b[0;34m)\u001b[0m\u001b[0;34m\u001b[0m\u001b[0;34m\u001b[0m\u001b[0m\n\u001b[0m",
            "\u001b[0;32m/usr/local/lib/python3.10/dist-packages/langchain/schema/runnable/base.py\u001b[0m in \u001b[0;36minvoke\u001b[0;34m(self, input, config)\u001b[0m\n\u001b[1;32m   1151\u001b[0m         \u001b[0;32mtry\u001b[0m\u001b[0;34m:\u001b[0m\u001b[0;34m\u001b[0m\u001b[0;34m\u001b[0m\u001b[0m\n\u001b[1;32m   1152\u001b[0m             \u001b[0;32mfor\u001b[0m \u001b[0mi\u001b[0m\u001b[0;34m,\u001b[0m \u001b[0mstep\u001b[0m \u001b[0;32min\u001b[0m \u001b[0menumerate\u001b[0m\u001b[0;34m(\u001b[0m\u001b[0mself\u001b[0m\u001b[0;34m.\u001b[0m\u001b[0msteps\u001b[0m\u001b[0;34m)\u001b[0m\u001b[0;34m:\u001b[0m\u001b[0;34m\u001b[0m\u001b[0;34m\u001b[0m\u001b[0m\n\u001b[0;32m-> 1153\u001b[0;31m                 input = step.invoke(\n\u001b[0m\u001b[1;32m   1154\u001b[0m                     \u001b[0minput\u001b[0m\u001b[0;34m,\u001b[0m\u001b[0;34m\u001b[0m\u001b[0;34m\u001b[0m\u001b[0m\n\u001b[1;32m   1155\u001b[0m                     \u001b[0;31m# mark each step as a child run\u001b[0m\u001b[0;34m\u001b[0m\u001b[0;34m\u001b[0m\u001b[0m\n",
            "\u001b[0;32m/usr/local/lib/python3.10/dist-packages/langchain/schema/output_parser.py\u001b[0m in \u001b[0;36minvoke\u001b[0;34m(self, input, config)\u001b[0m\n\u001b[1;32m    172\u001b[0m     ) -> T:\n\u001b[1;32m    173\u001b[0m         \u001b[0;32mif\u001b[0m \u001b[0misinstance\u001b[0m\u001b[0;34m(\u001b[0m\u001b[0minput\u001b[0m\u001b[0;34m,\u001b[0m \u001b[0mBaseMessage\u001b[0m\u001b[0;34m)\u001b[0m\u001b[0;34m:\u001b[0m\u001b[0;34m\u001b[0m\u001b[0;34m\u001b[0m\u001b[0m\n\u001b[0;32m--> 174\u001b[0;31m             return self._call_with_config(\n\u001b[0m\u001b[1;32m    175\u001b[0m                 lambda inner_input: self.parse_result(\n\u001b[1;32m    176\u001b[0m                     \u001b[0;34m[\u001b[0m\u001b[0mChatGeneration\u001b[0m\u001b[0;34m(\u001b[0m\u001b[0mmessage\u001b[0m\u001b[0;34m=\u001b[0m\u001b[0minner_input\u001b[0m\u001b[0;34m)\u001b[0m\u001b[0;34m]\u001b[0m\u001b[0;34m\u001b[0m\u001b[0;34m\u001b[0m\u001b[0m\n",
            "\u001b[0;32m/usr/local/lib/python3.10/dist-packages/langchain/schema/runnable/base.py\u001b[0m in \u001b[0;36m_call_with_config\u001b[0;34m(self, func, input, config, run_type, **kwargs)\u001b[0m\n\u001b[1;32m    666\u001b[0m         )\n\u001b[1;32m    667\u001b[0m         \u001b[0;32mtry\u001b[0m\u001b[0;34m:\u001b[0m\u001b[0;34m\u001b[0m\u001b[0;34m\u001b[0m\u001b[0m\n\u001b[0;32m--> 668\u001b[0;31m             output = call_func_with_variable_args(\n\u001b[0m\u001b[1;32m    669\u001b[0m                 \u001b[0mfunc\u001b[0m\u001b[0;34m,\u001b[0m \u001b[0minput\u001b[0m\u001b[0;34m,\u001b[0m \u001b[0mconfig\u001b[0m\u001b[0;34m,\u001b[0m \u001b[0mrun_manager\u001b[0m\u001b[0;34m,\u001b[0m \u001b[0;34m**\u001b[0m\u001b[0mkwargs\u001b[0m\u001b[0;34m\u001b[0m\u001b[0;34m\u001b[0m\u001b[0m\n\u001b[1;32m    670\u001b[0m             )\n",
            "\u001b[0;32m/usr/local/lib/python3.10/dist-packages/langchain/schema/runnable/config.py\u001b[0m in \u001b[0;36mcall_func_with_variable_args\u001b[0;34m(func, input, config, run_manager, **kwargs)\u001b[0m\n\u001b[1;32m    257\u001b[0m     \u001b[0;32mif\u001b[0m \u001b[0mrun_manager\u001b[0m \u001b[0;32mis\u001b[0m \u001b[0;32mnot\u001b[0m \u001b[0;32mNone\u001b[0m \u001b[0;32mand\u001b[0m \u001b[0maccepts_run_manager\u001b[0m\u001b[0;34m(\u001b[0m\u001b[0mfunc\u001b[0m\u001b[0;34m)\u001b[0m\u001b[0;34m:\u001b[0m\u001b[0;34m\u001b[0m\u001b[0;34m\u001b[0m\u001b[0m\n\u001b[1;32m    258\u001b[0m         \u001b[0mkwargs\u001b[0m\u001b[0;34m[\u001b[0m\u001b[0;34m\"run_manager\"\u001b[0m\u001b[0;34m]\u001b[0m \u001b[0;34m=\u001b[0m \u001b[0mrun_manager\u001b[0m\u001b[0;34m\u001b[0m\u001b[0;34m\u001b[0m\u001b[0m\n\u001b[0;32m--> 259\u001b[0;31m     \u001b[0;32mreturn\u001b[0m \u001b[0mfunc\u001b[0m\u001b[0;34m(\u001b[0m\u001b[0minput\u001b[0m\u001b[0;34m,\u001b[0m \u001b[0;34m**\u001b[0m\u001b[0mkwargs\u001b[0m\u001b[0;34m)\u001b[0m  \u001b[0;31m# type: ignore[call-arg]\u001b[0m\u001b[0;34m\u001b[0m\u001b[0;34m\u001b[0m\u001b[0m\n\u001b[0m\u001b[1;32m    260\u001b[0m \u001b[0;34m\u001b[0m\u001b[0m\n\u001b[1;32m    261\u001b[0m \u001b[0;34m\u001b[0m\u001b[0m\n",
            "\u001b[0;32m/usr/local/lib/python3.10/dist-packages/langchain/schema/output_parser.py\u001b[0m in \u001b[0;36m<lambda>\u001b[0;34m(inner_input)\u001b[0m\n\u001b[1;32m    173\u001b[0m         \u001b[0;32mif\u001b[0m \u001b[0misinstance\u001b[0m\u001b[0;34m(\u001b[0m\u001b[0minput\u001b[0m\u001b[0;34m,\u001b[0m \u001b[0mBaseMessage\u001b[0m\u001b[0;34m)\u001b[0m\u001b[0;34m:\u001b[0m\u001b[0;34m\u001b[0m\u001b[0;34m\u001b[0m\u001b[0m\n\u001b[1;32m    174\u001b[0m             return self._call_with_config(\n\u001b[0;32m--> 175\u001b[0;31m                 lambda inner_input: self.parse_result(\n\u001b[0m\u001b[1;32m    176\u001b[0m                     \u001b[0;34m[\u001b[0m\u001b[0mChatGeneration\u001b[0m\u001b[0;34m(\u001b[0m\u001b[0mmessage\u001b[0m\u001b[0;34m=\u001b[0m\u001b[0minner_input\u001b[0m\u001b[0;34m)\u001b[0m\u001b[0;34m]\u001b[0m\u001b[0;34m\u001b[0m\u001b[0;34m\u001b[0m\u001b[0m\n\u001b[1;32m    177\u001b[0m                 ),\n",
            "\u001b[0;32m/usr/local/lib/python3.10/dist-packages/langchain/output_parsers/openai_functions.py\u001b[0m in \u001b[0;36mparse_result\u001b[0;34m(self, result, partial)\u001b[0m\n\u001b[1;32m    131\u001b[0m \u001b[0;34m\u001b[0m\u001b[0m\n\u001b[1;32m    132\u001b[0m     \u001b[0;32mdef\u001b[0m \u001b[0mparse_result\u001b[0m\u001b[0;34m(\u001b[0m\u001b[0mself\u001b[0m\u001b[0;34m,\u001b[0m \u001b[0mresult\u001b[0m\u001b[0;34m:\u001b[0m \u001b[0mList\u001b[0m\u001b[0;34m[\u001b[0m\u001b[0mGeneration\u001b[0m\u001b[0;34m]\u001b[0m\u001b[0;34m,\u001b[0m \u001b[0;34m*\u001b[0m\u001b[0;34m,\u001b[0m \u001b[0mpartial\u001b[0m\u001b[0;34m:\u001b[0m \u001b[0mbool\u001b[0m \u001b[0;34m=\u001b[0m \u001b[0;32mFalse\u001b[0m\u001b[0;34m)\u001b[0m \u001b[0;34m->\u001b[0m \u001b[0mAny\u001b[0m\u001b[0;34m:\u001b[0m\u001b[0;34m\u001b[0m\u001b[0;34m\u001b[0m\u001b[0m\n\u001b[0;32m--> 133\u001b[0;31m         \u001b[0mres\u001b[0m \u001b[0;34m=\u001b[0m \u001b[0msuper\u001b[0m\u001b[0;34m(\u001b[0m\u001b[0;34m)\u001b[0m\u001b[0;34m.\u001b[0m\u001b[0mparse_result\u001b[0m\u001b[0;34m(\u001b[0m\u001b[0mresult\u001b[0m\u001b[0;34m)\u001b[0m\u001b[0;34m\u001b[0m\u001b[0;34m\u001b[0m\u001b[0m\n\u001b[0m\u001b[1;32m    134\u001b[0m         \u001b[0;32mreturn\u001b[0m \u001b[0mres\u001b[0m\u001b[0;34m.\u001b[0m\u001b[0mget\u001b[0m\u001b[0;34m(\u001b[0m\u001b[0mself\u001b[0m\u001b[0;34m.\u001b[0m\u001b[0mkey_name\u001b[0m\u001b[0;34m)\u001b[0m \u001b[0;32mif\u001b[0m \u001b[0mpartial\u001b[0m \u001b[0;32melse\u001b[0m \u001b[0mres\u001b[0m\u001b[0;34m[\u001b[0m\u001b[0mself\u001b[0m\u001b[0;34m.\u001b[0m\u001b[0mkey_name\u001b[0m\u001b[0;34m]\u001b[0m\u001b[0;34m\u001b[0m\u001b[0;34m\u001b[0m\u001b[0m\n\u001b[1;32m    135\u001b[0m \u001b[0;34m\u001b[0m\u001b[0m\n",
            "\u001b[0;32m/usr/local/lib/python3.10/dist-packages/langchain/output_parsers/openai_functions.py\u001b[0m in \u001b[0;36mparse_result\u001b[0;34m(self, result, partial)\u001b[0m\n\u001b[1;32m    100\u001b[0m                         )\n\u001b[1;32m    101\u001b[0m                     \u001b[0;32mexcept\u001b[0m \u001b[0;34m(\u001b[0m\u001b[0mjson\u001b[0m\u001b[0;34m.\u001b[0m\u001b[0mJSONDecodeError\u001b[0m\u001b[0;34m,\u001b[0m \u001b[0mTypeError\u001b[0m\u001b[0;34m)\u001b[0m \u001b[0;32mas\u001b[0m \u001b[0mexc\u001b[0m\u001b[0;34m:\u001b[0m\u001b[0;34m\u001b[0m\u001b[0;34m\u001b[0m\u001b[0m\n\u001b[0;32m--> 102\u001b[0;31m                         raise OutputParserException(\n\u001b[0m\u001b[1;32m    103\u001b[0m                             \u001b[0;34mf\"Could not parse function call data: {exc}\"\u001b[0m\u001b[0;34m\u001b[0m\u001b[0;34m\u001b[0m\u001b[0m\n\u001b[1;32m    104\u001b[0m                         )\n",
            "\u001b[0;31mOutputParserException\u001b[0m: Could not parse function call data: Expecting property name enclosed in double quotes: line 10 column 5 (char 252)"
          ]
        }
      ]
    },
    {
      "cell_type": "code",
      "source": [
        "extraction_chain_fixed.invoke({\"input\": text4})"
      ],
      "metadata": {
        "colab": {
          "base_uri": "https://localhost:8080/"
        },
        "id": "xOBB8M_LYTKf",
        "outputId": "11022fdc-73a3-41c5-c78a-40478156d887"
      },
      "execution_count": null,
      "outputs": [
        {
          "output_type": "execute_result",
          "data": {
            "text/plain": [
              "{'people': [{'name': 'David Fraser',\n",
              "   'title': 'International press inquiries',\n",
              "   'company': 'PMI Press Office',\n",
              "   'is_person': True,\n",
              "   'counter': 1,\n",
              "   'explanation': 'Contact for international press inquiries'},\n",
              "  {'name': 'Corey Henry',\n",
              "   'title': 'U.S. press inquiries',\n",
              "   'company': 'PMI Press Office',\n",
              "   'is_person': True,\n",
              "   'counter': 2,\n",
              "   'explanation': 'Contact for U.S. press inquiries'}]}"
            ]
          },
          "metadata": {},
          "execution_count": 23
        }
      ]
    }
  ]
}